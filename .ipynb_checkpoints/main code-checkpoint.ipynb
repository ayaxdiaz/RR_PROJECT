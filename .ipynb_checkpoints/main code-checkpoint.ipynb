{
 "cells": [
  {
   "cell_type": "markdown",
   "metadata": {},
   "source": [
    "# REPRODUCIBLE RESEARCH (STARBUCKS SURVEY)\n"
   ]
  },
  {
   "cell_type": "markdown",
   "metadata": {},
   "source": [
    "## Gahraman Akbarov, Cynara Nyahoda, Ayax Díaz Noriega"
   ]
  },
  {
   "cell_type": "markdown",
   "metadata": {},
   "source": [
    "\n",
    "The aim of this project is to reproduce research based on a Starbucks customer survey which was originally published [here](https://www.kaggle.com/code/rrrino39/starbucks-survey-xgboost-classification-prediction/data). In this research we use new data collected from 86 Polish Starbucks costumers in Poland. The original research however, used 102 observations from the Malaysian market.\n",
    "\n",
    "Our questionnaire can be found [here](https://forms.gle/XLVQ9QKwYw52BfpB9). \n",
    "\n"
   ]
  },
  {
   "cell_type": "markdown",
   "metadata": {},
   "source": [
    "# Table of contents \n",
    "1. [Tools used for this project](#introduction)\n",
    "2. [Data Understanding](#paragraph1)\n",
    "    1. [Import Library](#subparagraph1)\n",
    "    2. [Load Data](#subparagraph2)\n",
    "    3. [Statistical Summaries and Visualisations](#subparagraph3)\n",
    "    4. [Data Cleaning](#subparagraph4)\n",
    "3. [Data Preparation](#paragraph2)\n",
    "    1. [Missing Value](#subparagraph4)\n",
    "    2. [Change Categorical Variables to Numerical](#subparagraph5)\n",
    "4.  [Modelling](#paragraph3)"
   ]
  },
  {
   "cell_type": "markdown",
   "metadata": {},
   "source": [
    "## Tools used for this project <a name=\"introduction\"></a>\n",
    "- Jupyter Notebook (version 6.1.4)\n",
    "- Python 3.9\n",
    "- Microsoft Office Excel \n",
    "- Google Forms (for collecting data)\n",
    "- Github "
   ]
  },
  {
   "cell_type": "markdown",
   "metadata": {},
   "source": [
    "## Understanding Data <a name=\"paragraph1\"></a>"
   ]
  },
  {
   "cell_type": "markdown",
   "metadata": {},
   "source": [
    "### 1.1 Import Library <a name=\"subparagraph1\"></a>\n",
    "The first thing that needs to be done for the code to work properly is to import the Library. The library here serves to call the functions required in data preprocessing to classification methods."
   ]
  },
  {
   "cell_type": "code",
   "execution_count": 1,
   "metadata": {},
   "outputs": [],
   "source": [
    "import pandas as pd\n",
    "import numpy as np\n",
    "import warnings\n",
    "warnings.filterwarnings(\"ignore\")\n",
    "\n",
    "# Data Preparations\n",
    "from collections import Counter\n",
    "from sklearn.datasets import make_classification\n",
    "from imblearn.over_sampling import RandomOverSampler\n",
    "\n",
    "# Classification Modelling\n",
    "import xgboost as xgb\n",
    "from sklearn.model_selection import train_test_split\n",
    "\n",
    "# Plot Visualizations\n",
    "import matplotlib.pyplot as plt\n",
    "from sklearn.metrics import classification_report,plot_confusion_matrix,plot_roc_curve"
   ]
  },
  {
   "cell_type": "markdown",
   "metadata": {},
   "source": [
    "### 1.2 Load Data <a name=\"subparagraph2\"></a>\n",
    "After the Library is imported, the next step is to access and load the dataset."
   ]
  },
  {
   "cell_type": "code",
   "execution_count": 2,
   "metadata": {},
   "outputs": [],
   "source": [
    "survey = pd.read_csv('C:/Users/qehre/Desktop/RR_Project/starbucks_l.csv')"
   ]
  },
  {
   "cell_type": "markdown",
   "metadata": {},
   "source": [
    "### 1.3 Statistical Summaries and Visualisations¶ <a name=\"subparagraph3\"></a>\n",
    "To understand the data, we will now consider some key facts about the various variables including their relationship to the target variable, namely customer loyalty.\n",
    "\n",
    "We start by looking at a few rows of data."
   ]
  },
  {
   "cell_type": "code",
   "execution_count": 3,
   "metadata": {},
   "outputs": [
    {
     "data": {
      "text/html": [
       "<div>\n",
       "<style scoped>\n",
       "    .dataframe tbody tr th:only-of-type {\n",
       "        vertical-align: middle;\n",
       "    }\n",
       "\n",
       "    .dataframe tbody tr th {\n",
       "        vertical-align: top;\n",
       "    }\n",
       "\n",
       "    .dataframe thead th {\n",
       "        text-align: right;\n",
       "    }\n",
       "</style>\n",
       "<table border=\"1\" class=\"dataframe\">\n",
       "  <thead>\n",
       "    <tr style=\"text-align: right;\">\n",
       "      <th></th>\n",
       "      <th>Timestamp</th>\n",
       "      <th>Your Gender</th>\n",
       "      <th>Your Age</th>\n",
       "      <th>Are you currently....?</th>\n",
       "      <th>What is your annual income?</th>\n",
       "      <th>How often do you visit Starbucks?</th>\n",
       "      <th>How do you usually enjoy Starbucks?</th>\n",
       "      <th>How much time do you normally  spend during your visit?</th>\n",
       "      <th>The nearest Starbucks's outlet to you is...?</th>\n",
       "      <th>Do you have Starbucks membership card?</th>\n",
       "      <th>...</th>\n",
       "      <th>On average, how much would you spend at Starbucks per visit?</th>\n",
       "      <th>How would you rate the quality of Starbucks compared to other brands (Coffee Bean, Old Town White Coffee..) to be:</th>\n",
       "      <th>How would you rate the price range at Starbucks?</th>\n",
       "      <th>How important are sales and promotions in your purchase decision?</th>\n",
       "      <th>How would you rate the ambiance at Starbucks? (lighting, music, etc...)</th>\n",
       "      <th>You rate the WiFi quality at Starbucks as..</th>\n",
       "      <th>How would you rate the service at Starbucks? (Promptness, friendliness, etc..)</th>\n",
       "      <th>How likely you will choose Starbucks for doing business meetings or hangout with friends?</th>\n",
       "      <th>How do you come to hear of promotions at Starbucks? Check all that apply.</th>\n",
       "      <th>Will you continue buying at Starbucks?</th>\n",
       "    </tr>\n",
       "  </thead>\n",
       "  <tbody>\n",
       "    <tr>\n",
       "      <th>0</th>\n",
       "      <td>5/18/2022 23:04:19</td>\n",
       "      <td>Male</td>\n",
       "      <td>From 20 to 29</td>\n",
       "      <td>Employed</td>\n",
       "      <td>50,000 - 100,000 PLN</td>\n",
       "      <td>Rarely</td>\n",
       "      <td>Dine in</td>\n",
       "      <td>Between 2 hours to 3 hours</td>\n",
       "      <td>within 1km</td>\n",
       "      <td>No</td>\n",
       "      <td>...</td>\n",
       "      <td>Around 20 - 40 PLN</td>\n",
       "      <td>4</td>\n",
       "      <td>4</td>\n",
       "      <td>4</td>\n",
       "      <td>5</td>\n",
       "      <td>5</td>\n",
       "      <td>4</td>\n",
       "      <td>5</td>\n",
       "      <td>Social Media, Billboards</td>\n",
       "      <td>Yes</td>\n",
       "    </tr>\n",
       "    <tr>\n",
       "      <th>1</th>\n",
       "      <td>5/18/2022 23:13:26</td>\n",
       "      <td>Female</td>\n",
       "      <td>From 20 to 29</td>\n",
       "      <td>Student</td>\n",
       "      <td>Less than 25,000 PLN</td>\n",
       "      <td>Rarely</td>\n",
       "      <td>Take away</td>\n",
       "      <td>Between 1 hour to 2 hours</td>\n",
       "      <td>1km - 3km</td>\n",
       "      <td>No</td>\n",
       "      <td>...</td>\n",
       "      <td>Around 20 - 40 PLN</td>\n",
       "      <td>3</td>\n",
       "      <td>3</td>\n",
       "      <td>3</td>\n",
       "      <td>1</td>\n",
       "      <td>2</td>\n",
       "      <td>3</td>\n",
       "      <td>3</td>\n",
       "      <td>Social Media, Through friends and word of mouth</td>\n",
       "      <td>Yes</td>\n",
       "    </tr>\n",
       "    <tr>\n",
       "      <th>2</th>\n",
       "      <td>5/18/2022 23:20:36</td>\n",
       "      <td>Female</td>\n",
       "      <td>40 and above</td>\n",
       "      <td>Student</td>\n",
       "      <td>25,000 -50,000 PLN</td>\n",
       "      <td>Rarely</td>\n",
       "      <td>Dine in</td>\n",
       "      <td>Between 1 hour to 2 hours</td>\n",
       "      <td>1km - 3km</td>\n",
       "      <td>Yes</td>\n",
       "      <td>...</td>\n",
       "      <td>More than 40 PLN</td>\n",
       "      <td>4</td>\n",
       "      <td>4</td>\n",
       "      <td>5</td>\n",
       "      <td>5</td>\n",
       "      <td>5</td>\n",
       "      <td>4</td>\n",
       "      <td>3</td>\n",
       "      <td>Emails</td>\n",
       "      <td>Yes</td>\n",
       "    </tr>\n",
       "    <tr>\n",
       "      <th>3</th>\n",
       "      <td>5/18/2022 23:38:29</td>\n",
       "      <td>Female</td>\n",
       "      <td>From 20 to 29</td>\n",
       "      <td>Student</td>\n",
       "      <td>25,000 -50,000 PLN</td>\n",
       "      <td>Rarely</td>\n",
       "      <td>Dine in</td>\n",
       "      <td>Between 30 minutes to 1 hour</td>\n",
       "      <td>within 1km</td>\n",
       "      <td>No</td>\n",
       "      <td>...</td>\n",
       "      <td>Around 20 - 40 PLN</td>\n",
       "      <td>3</td>\n",
       "      <td>1</td>\n",
       "      <td>2</td>\n",
       "      <td>2</td>\n",
       "      <td>2</td>\n",
       "      <td>5</td>\n",
       "      <td>4</td>\n",
       "      <td>In Store displays</td>\n",
       "      <td>Yes</td>\n",
       "    </tr>\n",
       "    <tr>\n",
       "      <th>4</th>\n",
       "      <td>5/18/2022 23:48:49</td>\n",
       "      <td>Female</td>\n",
       "      <td>From 20 to 29</td>\n",
       "      <td>Student</td>\n",
       "      <td>Less than 25,000 PLN</td>\n",
       "      <td>Rarely</td>\n",
       "      <td>Take away</td>\n",
       "      <td>Below 30 minutes</td>\n",
       "      <td>more than 3km</td>\n",
       "      <td>No</td>\n",
       "      <td>...</td>\n",
       "      <td>Around 20 - 40 PLN</td>\n",
       "      <td>1</td>\n",
       "      <td>5</td>\n",
       "      <td>4</td>\n",
       "      <td>1</td>\n",
       "      <td>4</td>\n",
       "      <td>4</td>\n",
       "      <td>3</td>\n",
       "      <td>Social Media</td>\n",
       "      <td>Yes</td>\n",
       "    </tr>\n",
       "  </tbody>\n",
       "</table>\n",
       "<p>5 rows × 21 columns</p>\n",
       "</div>"
      ],
      "text/plain": [
       "            Timestamp Your Gender       Your Age Are you currently....?  \\\n",
       "0  5/18/2022 23:04:19        Male  From 20 to 29               Employed   \n",
       "1  5/18/2022 23:13:26      Female  From 20 to 29                Student   \n",
       "2  5/18/2022 23:20:36      Female   40 and above                Student   \n",
       "3  5/18/2022 23:38:29      Female  From 20 to 29                Student   \n",
       "4  5/18/2022 23:48:49      Female  From 20 to 29                Student   \n",
       "\n",
       "  What is your annual income? How often do you visit Starbucks?  \\\n",
       "0        50,000 - 100,000 PLN                            Rarely   \n",
       "1        Less than 25,000 PLN                            Rarely   \n",
       "2          25,000 -50,000 PLN                            Rarely   \n",
       "3          25,000 -50,000 PLN                            Rarely   \n",
       "4        Less than 25,000 PLN                            Rarely   \n",
       "\n",
       "  How do you usually enjoy Starbucks?  \\\n",
       "0                             Dine in   \n",
       "1                           Take away   \n",
       "2                             Dine in   \n",
       "3                             Dine in   \n",
       "4                           Take away   \n",
       "\n",
       "  How much time do you normally  spend during your visit?  \\\n",
       "0                         Between 2 hours to 3 hours        \n",
       "1                          Between 1 hour to 2 hours        \n",
       "2                          Between 1 hour to 2 hours        \n",
       "3                       Between 30 minutes to 1 hour        \n",
       "4                                   Below 30 minutes        \n",
       "\n",
       "  The nearest Starbucks's outlet to you is...?  \\\n",
       "0                                   within 1km   \n",
       "1                                    1km - 3km   \n",
       "2                                    1km - 3km   \n",
       "3                                   within 1km   \n",
       "4                                more than 3km   \n",
       "\n",
       "  Do you have Starbucks membership card?  ...  \\\n",
       "0                                     No  ...   \n",
       "1                                     No  ...   \n",
       "2                                    Yes  ...   \n",
       "3                                     No  ...   \n",
       "4                                     No  ...   \n",
       "\n",
       "  On average, how much would you spend at Starbucks per visit?  \\\n",
       "0                                 Around 20 - 40 PLN             \n",
       "1                                 Around 20 - 40 PLN             \n",
       "2                                   More than 40 PLN             \n",
       "3                                 Around 20 - 40 PLN             \n",
       "4                                 Around 20 - 40 PLN             \n",
       "\n",
       "  How would you rate the quality of Starbucks compared to other brands (Coffee Bean, Old Town White Coffee..) to be:  \\\n",
       "0                                                  4                                                                   \n",
       "1                                                  3                                                                   \n",
       "2                                                  4                                                                   \n",
       "3                                                  3                                                                   \n",
       "4                                                  1                                                                   \n",
       "\n",
       "   How would you rate the price range at Starbucks?  \\\n",
       "0                                                 4   \n",
       "1                                                 3   \n",
       "2                                                 4   \n",
       "3                                                 1   \n",
       "4                                                 5   \n",
       "\n",
       "   How important are sales and promotions in your purchase decision?  \\\n",
       "0                                                  4                   \n",
       "1                                                  3                   \n",
       "2                                                  5                   \n",
       "3                                                  2                   \n",
       "4                                                  4                   \n",
       "\n",
       "   How would you rate the ambiance at Starbucks? (lighting, music, etc...)  \\\n",
       "0                                                  5                         \n",
       "1                                                  1                         \n",
       "2                                                  5                         \n",
       "3                                                  2                         \n",
       "4                                                  1                         \n",
       "\n",
       "   You rate the WiFi quality at Starbucks as..  \\\n",
       "0                                            5   \n",
       "1                                            2   \n",
       "2                                            5   \n",
       "3                                            2   \n",
       "4                                            4   \n",
       "\n",
       "   How would you rate the service at Starbucks? (Promptness, friendliness, etc..)  \\\n",
       "0                                                  4                                \n",
       "1                                                  3                                \n",
       "2                                                  4                                \n",
       "3                                                  5                                \n",
       "4                                                  4                                \n",
       "\n",
       "   How likely you will choose Starbucks for doing business meetings or hangout with friends?  \\\n",
       "0                                                  5                                           \n",
       "1                                                  3                                           \n",
       "2                                                  3                                           \n",
       "3                                                  4                                           \n",
       "4                                                  3                                           \n",
       "\n",
       "   How do you come to hear of promotions at Starbucks? Check all that apply.  \\\n",
       "0                           Social Media, Billboards                           \n",
       "1    Social Media, Through friends and word of mouth                           \n",
       "2                                             Emails                           \n",
       "3                                  In Store displays                           \n",
       "4                                       Social Media                           \n",
       "\n",
       "  Will you continue buying at Starbucks?  \n",
       "0                                    Yes  \n",
       "1                                    Yes  \n",
       "2                                    Yes  \n",
       "3                                    Yes  \n",
       "4                                    Yes  \n",
       "\n",
       "[5 rows x 21 columns]"
      ]
     },
     "execution_count": 3,
     "metadata": {},
     "output_type": "execute_result"
    }
   ],
   "source": [
    "survey.head()"
   ]
  },
  {
   "cell_type": "markdown",
   "metadata": {},
   "source": [
    "### 1.4 Data Cleaning <a name=\"subparagraph4\"></a>\n",
    "To simplify the dataset, it is necessary to clean up the non-essential data."
   ]
  },
  {
   "cell_type": "code",
   "execution_count": 4,
   "metadata": {},
   "outputs": [],
   "source": [
    "## First Bullet Header <a class=\"anchor\" id=\"first-bullet\"></a>\n",
    "data = survey.copy()"
   ]
  },
  {
   "cell_type": "code",
   "execution_count": 5,
   "metadata": {},
   "outputs": [],
   "source": [
    "## Second Bullet Header <a class=\"anchor\" id=\"second-bullet\"></a>\n",
    "data.drop(columns=['Timestamp'], inplace = True)\n",
    "data.drop(columns=['What do you most frequently purchase at Starbucks?'], inplace = True)\n",
    "data.drop(columns=['How do you come to hear of promotions at Starbucks? Check all that apply.'], inplace = True)"
   ]
  },
  {
   "cell_type": "code",
   "execution_count": 6,
   "metadata": {},
   "outputs": [],
   "source": [
    "data.rename({'Your Gender' : 'Gender', 'Your Age' : 'Age', 'Are you currently....?' : 'Work_Status', 'What is your annual income?' : 'Annual_Income', 'How often do you visit Starbucks?' : 'Visit', 'How do you usually enjoy Starbucks?' : 'Visit_Type', 'How do you usually enjoy Starbucks?' : 'Visit_Type', 'How much time do you normally  spend during your visit?' : 'Visit_Duration', \"The nearest Starbucks's outlet to you is...?\" : 'Distance', 'Do you have Starbucks membership card?' : 'Membership', 'On average, how much would you spend at Starbucks per visit?' : 'Spending', 'How would you rate the quality of Starbucks compared to other brands (Coffee Bean, Old Town White Coffee..) to be:' : 'Product_Rating', 'How would you rate the price range at Starbucks?' : 'Price_Rating', 'How important are sales and promotions in your purchase decision?' : 'Promo_Rating', 'How would you rate the ambiance at Starbucks? (lighting, music, etc...)' : 'Ambiance_Rating', 'You rate the WiFi quality at Starbucks as..' : 'Wifi_Rating', 'How would you rate the service at Starbucks? (Promptness, friendliness, etc..)' : 'Service_Rating', 'How likely you will choose Starbucks for doing business meetings or hangout with friends?' : 'Hangout_Rating', 'Will you continue buying at Starbucks?' : 'Loyality'} , inplace = True , axis = 1)"
   ]
  },
  {
   "cell_type": "code",
   "execution_count": 7,
   "metadata": {},
   "outputs": [
    {
     "data": {
      "text/html": [
       "<div>\n",
       "<style scoped>\n",
       "    .dataframe tbody tr th:only-of-type {\n",
       "        vertical-align: middle;\n",
       "    }\n",
       "\n",
       "    .dataframe tbody tr th {\n",
       "        vertical-align: top;\n",
       "    }\n",
       "\n",
       "    .dataframe thead th {\n",
       "        text-align: right;\n",
       "    }\n",
       "</style>\n",
       "<table border=\"1\" class=\"dataframe\">\n",
       "  <thead>\n",
       "    <tr style=\"text-align: right;\">\n",
       "      <th></th>\n",
       "      <th>Gender</th>\n",
       "      <th>Age</th>\n",
       "      <th>Work_Status</th>\n",
       "      <th>Annual_Income</th>\n",
       "      <th>Visit</th>\n",
       "      <th>Visit_Type</th>\n",
       "      <th>Visit_Duration</th>\n",
       "      <th>Distance</th>\n",
       "      <th>Membership</th>\n",
       "      <th>Spending</th>\n",
       "      <th>Product_Rating</th>\n",
       "      <th>Price_Rating</th>\n",
       "      <th>Promo_Rating</th>\n",
       "      <th>Ambiance_Rating</th>\n",
       "      <th>Wifi_Rating</th>\n",
       "      <th>Service_Rating</th>\n",
       "      <th>Hangout_Rating</th>\n",
       "      <th>Loyality</th>\n",
       "    </tr>\n",
       "  </thead>\n",
       "  <tbody>\n",
       "    <tr>\n",
       "      <th>0</th>\n",
       "      <td>Male</td>\n",
       "      <td>From 20 to 29</td>\n",
       "      <td>Employed</td>\n",
       "      <td>50,000 - 100,000 PLN</td>\n",
       "      <td>Rarely</td>\n",
       "      <td>Dine in</td>\n",
       "      <td>Between 2 hours to 3 hours</td>\n",
       "      <td>within 1km</td>\n",
       "      <td>No</td>\n",
       "      <td>Around 20 - 40 PLN</td>\n",
       "      <td>4</td>\n",
       "      <td>4</td>\n",
       "      <td>4</td>\n",
       "      <td>5</td>\n",
       "      <td>5</td>\n",
       "      <td>4</td>\n",
       "      <td>5</td>\n",
       "      <td>Yes</td>\n",
       "    </tr>\n",
       "    <tr>\n",
       "      <th>1</th>\n",
       "      <td>Female</td>\n",
       "      <td>From 20 to 29</td>\n",
       "      <td>Student</td>\n",
       "      <td>Less than 25,000 PLN</td>\n",
       "      <td>Rarely</td>\n",
       "      <td>Take away</td>\n",
       "      <td>Between 1 hour to 2 hours</td>\n",
       "      <td>1km - 3km</td>\n",
       "      <td>No</td>\n",
       "      <td>Around 20 - 40 PLN</td>\n",
       "      <td>3</td>\n",
       "      <td>3</td>\n",
       "      <td>3</td>\n",
       "      <td>1</td>\n",
       "      <td>2</td>\n",
       "      <td>3</td>\n",
       "      <td>3</td>\n",
       "      <td>Yes</td>\n",
       "    </tr>\n",
       "    <tr>\n",
       "      <th>2</th>\n",
       "      <td>Female</td>\n",
       "      <td>40 and above</td>\n",
       "      <td>Student</td>\n",
       "      <td>25,000 -50,000 PLN</td>\n",
       "      <td>Rarely</td>\n",
       "      <td>Dine in</td>\n",
       "      <td>Between 1 hour to 2 hours</td>\n",
       "      <td>1km - 3km</td>\n",
       "      <td>Yes</td>\n",
       "      <td>More than 40 PLN</td>\n",
       "      <td>4</td>\n",
       "      <td>4</td>\n",
       "      <td>5</td>\n",
       "      <td>5</td>\n",
       "      <td>5</td>\n",
       "      <td>4</td>\n",
       "      <td>3</td>\n",
       "      <td>Yes</td>\n",
       "    </tr>\n",
       "    <tr>\n",
       "      <th>3</th>\n",
       "      <td>Female</td>\n",
       "      <td>From 20 to 29</td>\n",
       "      <td>Student</td>\n",
       "      <td>25,000 -50,000 PLN</td>\n",
       "      <td>Rarely</td>\n",
       "      <td>Dine in</td>\n",
       "      <td>Between 30 minutes to 1 hour</td>\n",
       "      <td>within 1km</td>\n",
       "      <td>No</td>\n",
       "      <td>Around 20 - 40 PLN</td>\n",
       "      <td>3</td>\n",
       "      <td>1</td>\n",
       "      <td>2</td>\n",
       "      <td>2</td>\n",
       "      <td>2</td>\n",
       "      <td>5</td>\n",
       "      <td>4</td>\n",
       "      <td>Yes</td>\n",
       "    </tr>\n",
       "    <tr>\n",
       "      <th>4</th>\n",
       "      <td>Female</td>\n",
       "      <td>From 20 to 29</td>\n",
       "      <td>Student</td>\n",
       "      <td>Less than 25,000 PLN</td>\n",
       "      <td>Rarely</td>\n",
       "      <td>Take away</td>\n",
       "      <td>Below 30 minutes</td>\n",
       "      <td>more than 3km</td>\n",
       "      <td>No</td>\n",
       "      <td>Around 20 - 40 PLN</td>\n",
       "      <td>1</td>\n",
       "      <td>5</td>\n",
       "      <td>4</td>\n",
       "      <td>1</td>\n",
       "      <td>4</td>\n",
       "      <td>4</td>\n",
       "      <td>3</td>\n",
       "      <td>Yes</td>\n",
       "    </tr>\n",
       "  </tbody>\n",
       "</table>\n",
       "</div>"
      ],
      "text/plain": [
       "   Gender            Age Work_Status         Annual_Income   Visit Visit_Type  \\\n",
       "0    Male  From 20 to 29    Employed  50,000 - 100,000 PLN  Rarely    Dine in   \n",
       "1  Female  From 20 to 29     Student  Less than 25,000 PLN  Rarely  Take away   \n",
       "2  Female   40 and above     Student    25,000 -50,000 PLN  Rarely    Dine in   \n",
       "3  Female  From 20 to 29     Student    25,000 -50,000 PLN  Rarely    Dine in   \n",
       "4  Female  From 20 to 29     Student  Less than 25,000 PLN  Rarely  Take away   \n",
       "\n",
       "                 Visit_Duration       Distance Membership            Spending  \\\n",
       "0    Between 2 hours to 3 hours     within 1km         No  Around 20 - 40 PLN   \n",
       "1     Between 1 hour to 2 hours      1km - 3km         No  Around 20 - 40 PLN   \n",
       "2     Between 1 hour to 2 hours      1km - 3km        Yes    More than 40 PLN   \n",
       "3  Between 30 minutes to 1 hour     within 1km         No  Around 20 - 40 PLN   \n",
       "4              Below 30 minutes  more than 3km         No  Around 20 - 40 PLN   \n",
       "\n",
       "   Product_Rating  Price_Rating  Promo_Rating  Ambiance_Rating  Wifi_Rating  \\\n",
       "0               4             4             4                5            5   \n",
       "1               3             3             3                1            2   \n",
       "2               4             4             5                5            5   \n",
       "3               3             1             2                2            2   \n",
       "4               1             5             4                1            4   \n",
       "\n",
       "   Service_Rating  Hangout_Rating Loyality  \n",
       "0               4               5      Yes  \n",
       "1               3               3      Yes  \n",
       "2               4               3      Yes  \n",
       "3               5               4      Yes  \n",
       "4               4               3      Yes  "
      ]
     },
     "execution_count": 7,
     "metadata": {},
     "output_type": "execute_result"
    }
   ],
   "source": [
    "data.head()"
   ]
  },
  {
   "cell_type": "markdown",
   "metadata": {},
   "source": [
    "**Variable Description**\n",
    "\n",
    "- Gender: Female or Male.\n",
    "- Age: Age range of respondents.\n",
    "- Work_Status: Respondent's employment status.\n",
    "- Annual_Income: Respondent's income (in Malaysian Ringgit).\n",
    "- Visit: How often the respondent visits.\n",
    "- Visit_Type: Type of visit (eat in or take away).\n",
    "- Visit_Duration: Length of visit.\n",
    "- Distance: The distance of the nearest Starbucks outlet from the respondent's location.\n",
    "- Membership: Ownership of respondent's membership card.\n",
    "- Spending: The respondent's average purchase expenditure.\n",
    "- Product_Rating: Product rating by respondents on a scale of 1-5.\n",
    "- Price_Rating: Price rating by respondents on a scale of 1-5.\n",
    "- Promo_Rating: Promotion rating by respondents on a scale of 1-5.\n",
    "- Ambiance_Rating: Atmosphere rating by respondents on a scale of 1-5.\n",
    "- Wifi_Rating: WiFi rating by respondents on a scale of 1-5.\n",
    "- Service_Rating: Service rating by respondents on a scale of 1-5.\n",
    "- Hangout_Rating: The suitability rating as a hangout place by respondents on a scale of 1-5.\n",
    "\n",
    "**Variable Target**\n",
    "\n",
    "- Loyality: Customer loyalty in product purchases."
   ]
  },
  {
   "cell_type": "markdown",
   "metadata": {},
   "source": [
    "## Data Preparation <a name=\"paragraph2\"></a>"
   ]
  },
  {
   "cell_type": "markdown",
   "metadata": {},
   "source": [
    "### 2.1 Missing Value <a name=\"subparagraph5\"></a>\n",
    "At this stage will be checked for missing values. Missing value here means a data in an attribute that has no value."
   ]
  },
  {
   "cell_type": "code",
   "execution_count": 8,
   "metadata": {},
   "outputs": [
    {
     "data": {
      "text/plain": [
       "Gender             False\n",
       "Age                False\n",
       "Work_Status        False\n",
       "Annual_Income      False\n",
       "Visit              False\n",
       "Visit_Type         False\n",
       "Visit_Duration     False\n",
       "Distance           False\n",
       "Membership         False\n",
       "Spending           False\n",
       "Product_Rating     False\n",
       "Price_Rating       False\n",
       "Promo_Rating       False\n",
       "Ambiance_Rating    False\n",
       "Wifi_Rating        False\n",
       "Service_Rating     False\n",
       "Hangout_Rating     False\n",
       "Loyality           False\n",
       "dtype: bool"
      ]
     },
     "execution_count": 8,
     "metadata": {},
     "output_type": "execute_result"
    }
   ],
   "source": [
    "# Check for missing values\n",
    "data.isnull().any()"
   ]
  },
  {
   "cell_type": "markdown",
   "metadata": {},
   "source": [
    "### 2.2 Change Categorical Variables to Numerical <a name=\"subparagraph6\"></a>\n",
    "In this dataset, many still use categorical variables. In order for machine learning to understand the data, these variables must be converted to numerical."
   ]
  },
  {
   "cell_type": "code",
   "execution_count": 9,
   "metadata": {},
   "outputs": [
    {
     "data": {
      "text/plain": [
       "Gender             object\n",
       "Age                object\n",
       "Work_Status        object\n",
       "Annual_Income      object\n",
       "Visit              object\n",
       "Visit_Type         object\n",
       "Visit_Duration     object\n",
       "Distance           object\n",
       "Membership         object\n",
       "Spending           object\n",
       "Product_Rating      int64\n",
       "Price_Rating        int64\n",
       "Promo_Rating        int64\n",
       "Ambiance_Rating     int64\n",
       "Wifi_Rating         int64\n",
       "Service_Rating      int64\n",
       "Hangout_Rating      int64\n",
       "Loyality           object\n",
       "dtype: object"
      ]
     },
     "execution_count": 9,
     "metadata": {},
     "output_type": "execute_result"
    }
   ],
   "source": [
    "data.dtypes"
   ]
  },
  {
   "cell_type": "code",
   "execution_count": 10,
   "metadata": {},
   "outputs": [
    {
     "data": {
      "text/plain": [
       "array(['Male', 'Female'], dtype=object)"
      ]
     },
     "execution_count": 10,
     "metadata": {},
     "output_type": "execute_result"
    }
   ],
   "source": [
    "data['Gender'].unique()"
   ]
  },
  {
   "cell_type": "code",
   "execution_count": 11,
   "metadata": {},
   "outputs": [
    {
     "data": {
      "text/plain": [
       "array(['From 20 to 29', '40 and above', 'Below 20', 'From 30 to 39'],\n",
       "      dtype=object)"
      ]
     },
     "execution_count": 11,
     "metadata": {},
     "output_type": "execute_result"
    }
   ],
   "source": [
    "data['Age'].unique()"
   ]
  },
  {
   "cell_type": "code",
   "execution_count": 12,
   "metadata": {},
   "outputs": [],
   "source": [
    "data['Visit_Type'] = data['Visit_Type'].replace(['Take away\\t'],'Take away')\n",
    "data['Visit_Type'] = data['Visit_Type'].replace(['Dine in\\t'],'Dine in')"
   ]
  },
  {
   "cell_type": "code",
   "execution_count": 13,
   "metadata": {},
   "outputs": [
    {
     "data": {
      "text/plain": [
       "array(['Dine in', 'Take away'], dtype=object)"
      ]
     },
     "execution_count": 13,
     "metadata": {},
     "output_type": "execute_result"
    }
   ],
   "source": [
    "data['Visit_Type'].unique()"
   ]
  },
  {
   "cell_type": "code",
   "execution_count": 14,
   "metadata": {},
   "outputs": [
    {
     "data": {
      "text/plain": [
       "array(['Employed', 'Student', 'Self-employed', 'Unemployed'], dtype=object)"
      ]
     },
     "execution_count": 14,
     "metadata": {},
     "output_type": "execute_result"
    }
   ],
   "source": [
    "data['Work_Status'].unique()"
   ]
  },
  {
   "cell_type": "code",
   "execution_count": 15,
   "metadata": {},
   "outputs": [
    {
     "data": {
      "text/plain": [
       "array(['50,000 - 100,000 PLN', 'Less than 25,000 PLN',\n",
       "       '25,000 -50,000 PLN', '100,000 - 150,000 PLN',\n",
       "       'More than 150,000 PLN'], dtype=object)"
      ]
     },
     "execution_count": 15,
     "metadata": {},
     "output_type": "execute_result"
    }
   ],
   "source": [
    "data['Annual_Income'].unique()"
   ]
  },
  {
   "cell_type": "code",
   "execution_count": 16,
   "metadata": {},
   "outputs": [
    {
     "data": {
      "text/plain": [
       "array(['Rarely', 'Monthly', 'Never', 'Weekly', 'Daily'], dtype=object)"
      ]
     },
     "execution_count": 16,
     "metadata": {},
     "output_type": "execute_result"
    }
   ],
   "source": [
    "data['Visit'].unique()"
   ]
  },
  {
   "cell_type": "code",
   "execution_count": 17,
   "metadata": {},
   "outputs": [
    {
     "data": {
      "text/plain": [
       "array(['Between 2 hours to 3 hours', 'Between 1 hour to 2 hours',\n",
       "       'Between 30 minutes to 1 hour', 'Below 30 minutes',\n",
       "       'More than 3 hours'], dtype=object)"
      ]
     },
     "execution_count": 17,
     "metadata": {},
     "output_type": "execute_result"
    }
   ],
   "source": [
    "data['Visit_Duration'].unique()"
   ]
  },
  {
   "cell_type": "code",
   "execution_count": 18,
   "metadata": {},
   "outputs": [
    {
     "data": {
      "text/plain": [
       "array(['within 1km', '1km - 3km', 'more than 3km'], dtype=object)"
      ]
     },
     "execution_count": 18,
     "metadata": {},
     "output_type": "execute_result"
    }
   ],
   "source": [
    "data['Distance'].unique()"
   ]
  },
  {
   "cell_type": "code",
   "execution_count": 19,
   "metadata": {},
   "outputs": [
    {
     "data": {
      "text/plain": [
       "array(['No', 'Yes'], dtype=object)"
      ]
     },
     "execution_count": 19,
     "metadata": {},
     "output_type": "execute_result"
    }
   ],
   "source": [
    "data['Membership'].unique()"
   ]
  },
  {
   "cell_type": "code",
   "execution_count": 20,
   "metadata": {},
   "outputs": [
    {
     "data": {
      "text/plain": [
       "array(['Around 20 - 40 PLN', 'More than 40 PLN', 'Less than 20 PLN',\n",
       "       'Zero'], dtype=object)"
      ]
     },
     "execution_count": 20,
     "metadata": {},
     "output_type": "execute_result"
    }
   ],
   "source": [
    "data['Spending'].unique()"
   ]
  },
  {
   "cell_type": "code",
   "execution_count": 21,
   "metadata": {},
   "outputs": [],
   "source": [
    "data[\"Gender\"].replace({\"Female\": 1, \"Male\": 0}, inplace=True)\n",
    "data[\"Age\"].replace({\"Below 20\": 0, \"From 20 to 29\": 1, \"From 30 to 39\": 2, \"40 and above\": 3}, inplace=True)\n",
    "data[\"Work_Status\"].replace({\"Student\": 0, \"Employed\": 1, \"Self-employed\": 2, \"Unemployed\": 3}, inplace=True)\n",
    "data[\"Annual_Income\"].replace({\"Less than 25,000 PLN\": 0, \"25,000 -50,000 PLN\": 1, \"50,000 - 100,000 PLN\": 2, \"100,000 - 150,000 PLN\": 3, \"More than 150,000 PLN\": 4}, inplace=True)\n",
    "data[\"Visit\"].replace({\"Never\": 0, \"Rarely\": 1, \"Monthly\": 2, \"Weekly\": 3, \"Daily\": 4}, inplace=True)\n",
    "data[\"Visit_Duration\"].replace({\"Below 30 minutes\": 0, \"Between 30 minutes to 1 hour\": 1, \"Between 1 hour to 2 hours\": 2, \"Between 2 hours to 3 hours\": 3, \"More than 3 hours\": 4}, inplace=True)\n",
    "data[\"Distance\"].replace({\"within 1km\": 0, \"1km - 3km\": 1, \"more than 3km\": 2}, inplace=True)\n",
    "data[\"Visit_Type\"].replace({\"Take away\": 0, \"Dine in\": 1}, inplace=True)\n",
    "data[\"Membership\"].replace({\"No\": 0, \"Yes\": 1}, inplace=True)\n",
    "data[\"Spending\"].replace({\"Zero\": 0, \"Less than 20 PLN\": 1, \"Around 20 - 40 PLN\": 2, \"More than 40 PLN\": 3}, inplace=True)"
   ]
  },
  {
   "cell_type": "code",
   "execution_count": 22,
   "metadata": {},
   "outputs": [
    {
     "data": {
      "text/plain": [
       "Gender              int64\n",
       "Age                 int64\n",
       "Work_Status         int64\n",
       "Annual_Income       int64\n",
       "Visit               int64\n",
       "Visit_Type          int64\n",
       "Visit_Duration      int64\n",
       "Distance            int64\n",
       "Membership          int64\n",
       "Spending            int64\n",
       "Product_Rating      int64\n",
       "Price_Rating        int64\n",
       "Promo_Rating        int64\n",
       "Ambiance_Rating     int64\n",
       "Wifi_Rating         int64\n",
       "Service_Rating      int64\n",
       "Hangout_Rating      int64\n",
       "Loyality           object\n",
       "dtype: object"
      ]
     },
     "execution_count": 22,
     "metadata": {},
     "output_type": "execute_result"
    }
   ],
   "source": [
    "data.dtypes"
   ]
  },
  {
   "cell_type": "code",
   "execution_count": 23,
   "metadata": {},
   "outputs": [
    {
     "data": {
      "text/html": [
       "<div>\n",
       "<style scoped>\n",
       "    .dataframe tbody tr th:only-of-type {\n",
       "        vertical-align: middle;\n",
       "    }\n",
       "\n",
       "    .dataframe tbody tr th {\n",
       "        vertical-align: top;\n",
       "    }\n",
       "\n",
       "    .dataframe thead th {\n",
       "        text-align: right;\n",
       "    }\n",
       "</style>\n",
       "<table border=\"1\" class=\"dataframe\">\n",
       "  <thead>\n",
       "    <tr style=\"text-align: right;\">\n",
       "      <th></th>\n",
       "      <th>Gender</th>\n",
       "      <th>Age</th>\n",
       "      <th>Work_Status</th>\n",
       "      <th>Annual_Income</th>\n",
       "      <th>Visit</th>\n",
       "      <th>Visit_Type</th>\n",
       "      <th>Visit_Duration</th>\n",
       "      <th>Distance</th>\n",
       "      <th>Membership</th>\n",
       "      <th>Spending</th>\n",
       "      <th>Product_Rating</th>\n",
       "      <th>Price_Rating</th>\n",
       "      <th>Promo_Rating</th>\n",
       "      <th>Ambiance_Rating</th>\n",
       "      <th>Wifi_Rating</th>\n",
       "      <th>Service_Rating</th>\n",
       "      <th>Hangout_Rating</th>\n",
       "      <th>Loyality</th>\n",
       "    </tr>\n",
       "  </thead>\n",
       "  <tbody>\n",
       "    <tr>\n",
       "      <th>0</th>\n",
       "      <td>0</td>\n",
       "      <td>1</td>\n",
       "      <td>1</td>\n",
       "      <td>2</td>\n",
       "      <td>1</td>\n",
       "      <td>1</td>\n",
       "      <td>3</td>\n",
       "      <td>0</td>\n",
       "      <td>0</td>\n",
       "      <td>2</td>\n",
       "      <td>4</td>\n",
       "      <td>4</td>\n",
       "      <td>4</td>\n",
       "      <td>5</td>\n",
       "      <td>5</td>\n",
       "      <td>4</td>\n",
       "      <td>5</td>\n",
       "      <td>Yes</td>\n",
       "    </tr>\n",
       "    <tr>\n",
       "      <th>1</th>\n",
       "      <td>1</td>\n",
       "      <td>1</td>\n",
       "      <td>0</td>\n",
       "      <td>0</td>\n",
       "      <td>1</td>\n",
       "      <td>0</td>\n",
       "      <td>2</td>\n",
       "      <td>1</td>\n",
       "      <td>0</td>\n",
       "      <td>2</td>\n",
       "      <td>3</td>\n",
       "      <td>3</td>\n",
       "      <td>3</td>\n",
       "      <td>1</td>\n",
       "      <td>2</td>\n",
       "      <td>3</td>\n",
       "      <td>3</td>\n",
       "      <td>Yes</td>\n",
       "    </tr>\n",
       "    <tr>\n",
       "      <th>2</th>\n",
       "      <td>1</td>\n",
       "      <td>3</td>\n",
       "      <td>0</td>\n",
       "      <td>1</td>\n",
       "      <td>1</td>\n",
       "      <td>1</td>\n",
       "      <td>2</td>\n",
       "      <td>1</td>\n",
       "      <td>1</td>\n",
       "      <td>3</td>\n",
       "      <td>4</td>\n",
       "      <td>4</td>\n",
       "      <td>5</td>\n",
       "      <td>5</td>\n",
       "      <td>5</td>\n",
       "      <td>4</td>\n",
       "      <td>3</td>\n",
       "      <td>Yes</td>\n",
       "    </tr>\n",
       "    <tr>\n",
       "      <th>3</th>\n",
       "      <td>1</td>\n",
       "      <td>1</td>\n",
       "      <td>0</td>\n",
       "      <td>1</td>\n",
       "      <td>1</td>\n",
       "      <td>1</td>\n",
       "      <td>1</td>\n",
       "      <td>0</td>\n",
       "      <td>0</td>\n",
       "      <td>2</td>\n",
       "      <td>3</td>\n",
       "      <td>1</td>\n",
       "      <td>2</td>\n",
       "      <td>2</td>\n",
       "      <td>2</td>\n",
       "      <td>5</td>\n",
       "      <td>4</td>\n",
       "      <td>Yes</td>\n",
       "    </tr>\n",
       "    <tr>\n",
       "      <th>4</th>\n",
       "      <td>1</td>\n",
       "      <td>1</td>\n",
       "      <td>0</td>\n",
       "      <td>0</td>\n",
       "      <td>1</td>\n",
       "      <td>0</td>\n",
       "      <td>0</td>\n",
       "      <td>2</td>\n",
       "      <td>0</td>\n",
       "      <td>2</td>\n",
       "      <td>1</td>\n",
       "      <td>5</td>\n",
       "      <td>4</td>\n",
       "      <td>1</td>\n",
       "      <td>4</td>\n",
       "      <td>4</td>\n",
       "      <td>3</td>\n",
       "      <td>Yes</td>\n",
       "    </tr>\n",
       "  </tbody>\n",
       "</table>\n",
       "</div>"
      ],
      "text/plain": [
       "   Gender  Age  Work_Status  Annual_Income  Visit  Visit_Type  Visit_Duration  \\\n",
       "0       0    1            1              2      1           1               3   \n",
       "1       1    1            0              0      1           0               2   \n",
       "2       1    3            0              1      1           1               2   \n",
       "3       1    1            0              1      1           1               1   \n",
       "4       1    1            0              0      1           0               0   \n",
       "\n",
       "   Distance  Membership  Spending  Product_Rating  Price_Rating  Promo_Rating  \\\n",
       "0         0           0         2               4             4             4   \n",
       "1         1           0         2               3             3             3   \n",
       "2         1           1         3               4             4             5   \n",
       "3         0           0         2               3             1             2   \n",
       "4         2           0         2               1             5             4   \n",
       "\n",
       "   Ambiance_Rating  Wifi_Rating  Service_Rating  Hangout_Rating Loyality  \n",
       "0                5            5               4               5      Yes  \n",
       "1                1            2               3               3      Yes  \n",
       "2                5            5               4               3      Yes  \n",
       "3                2            2               5               4      Yes  \n",
       "4                1            4               4               3      Yes  "
      ]
     },
     "execution_count": 23,
     "metadata": {},
     "output_type": "execute_result"
    }
   ],
   "source": [
    "data.head()"
   ]
  },
  {
   "cell_type": "markdown",
   "metadata": {},
   "source": [
    "\n",
    "## Modelling <a name=\"paragraph3\"></a>\n",
    "At this stage a model will be formed from the training data."
   ]
  },
  {
   "cell_type": "code",
   "execution_count": 24,
   "metadata": {},
   "outputs": [],
   "source": [
    "# Retrieve dataset\n",
    "datasb = data\n",
    "# Split in X and y\n",
    "X, y = datasb.iloc[:,:-1], datasb.iloc[:,-1]\n",
    "\n",
    "# The dataset is divided into two, for training data and testing data\n",
    "# Data Training : Data Testing - 70% : 30%\n",
    "X_train, X_test, y_train, y_test= train_test_split(X, y, test_size=0.3, random_state=123)"
   ]
  },
  {
   "cell_type": "code",
   "execution_count": 25,
   "metadata": {},
   "outputs": [],
   "source": [
    "# Create an XGBoost Classifier model\n",
    "xg_cl = xgb.XGBClassifier(objective='binary:logistic', n_estimators=1000, seed=123, learning_rate=0.1, max_depth=5, colsample_bytree=1, subsample=1)"
   ]
  },
  {
   "cell_type": "markdown",
   "metadata": {},
   "source": [
    "### XGBClassifier Parameters:\n",
    "\n",
    "- Objective - What is your goal for this particular problem, here we have a binary classification problem of 2 class hence use binary:logistic.\n",
    "- n_estimators - The number of trees we use for the classification problem.\n",
    "- learning_rate - How big a step to take.\n",
    "- max_depth - Maximum depth of each tree.\n",
    "- colsample_bytree - What percentage of features each tree has.\n",
    "- subsample - What percentage of data is used by each tree."
   ]
  },
  {
   "cell_type": "code",
   "execution_count": 26,
   "metadata": {},
   "outputs": [
    {
     "name": "stdout",
     "output_type": "stream",
     "text": [
      "[19:14:09] WARNING: C:/Users/Administrator/workspace/xgboost-win64_release_1.5.1/src/learner.cc:1115: Starting in XGBoost 1.3.0, the default evaluation metric used with the objective 'binary:logistic' was changed from 'error' to 'logloss'. Explicitly set eval_metric if you'd like to restore the old behavior.\n"
     ]
    },
    {
     "data": {
      "text/plain": [
       "XGBClassifier(base_score=0.5, booster='gbtree', colsample_bylevel=1,\n",
       "              colsample_bynode=1, colsample_bytree=1, enable_categorical=False,\n",
       "              gamma=0, gpu_id=-1, importance_type=None,\n",
       "              interaction_constraints='', learning_rate=0.1, max_delta_step=0,\n",
       "              max_depth=5, min_child_weight=1, missing=nan,\n",
       "              monotone_constraints='()', n_estimators=1000, n_jobs=12,\n",
       "              num_parallel_tree=1, predictor='auto', random_state=123,\n",
       "              reg_alpha=0, reg_lambda=1, scale_pos_weight=1, seed=123,\n",
       "              subsample=1, tree_method='exact', validate_parameters=1,\n",
       "              verbosity=None)"
      ]
     },
     "execution_count": 26,
     "metadata": {},
     "output_type": "execute_result"
    }
   ],
   "source": [
    "# Fitting model XGBoost\n",
    "xg_cl.fit(X_train,y_train)"
   ]
  },
  {
   "cell_type": "code",
   "execution_count": 27,
   "metadata": {},
   "outputs": [],
   "source": [
    "# Prediction of testing data\n",
    "preds = xg_cl.predict(X_test)"
   ]
  },
  {
   "cell_type": "code",
   "execution_count": 28,
   "metadata": {},
   "outputs": [
    {
     "name": "stdout",
     "output_type": "stream",
     "text": [
      "Accuracy: 0.884615\n"
     ]
    }
   ],
   "source": [
    "accuracy = float(np.sum(preds==y_test))/y_test.shape[0]\n",
    "print(\"Accuracy: %f\" % (accuracy))"
   ]
  },
  {
   "cell_type": "code",
   "execution_count": 29,
   "metadata": {},
   "outputs": [
    {
     "data": {
      "text/plain": [
       "<sklearn.metrics._plot.confusion_matrix.ConfusionMatrixDisplay at 0x26251f7e1f0>"
      ]
     },
     "execution_count": 29,
     "metadata": {},
     "output_type": "execute_result"
    },
    {
     "data": {
      "image/png": "[encoded data removed]",
      "text/plain": [
       "<Figure size 432x288 with 2 Axes>"
      ]
     },
     "metadata": {
      "needs_background": "light"
     },
     "output_type": "display_data"
    }
   ],
   "source": [
    "plot_confusion_matrix(xg_cl,X_test,y_test,cmap='RdPu')"
   ]
  },
  {
   "cell_type": "code",
   "execution_count": 30,
   "metadata": {},
   "outputs": [
    {
     "data": {
      "text/plain": [
       "<sklearn.metrics._plot.roc_curve.RocCurveDisplay at 0x26251f4b0d0>"
      ]
     },
     "execution_count": 30,
     "metadata": {},
     "output_type": "execute_result"
    },
    {
     "data": {
      "image/png": "[encoded data removed]",
      "text/plain": [
       "<Figure size 432x288 with 1 Axes>"
      ]
     },
     "metadata": {
      "needs_background": "light"
     },
     "output_type": "display_data"
    }
   ],
   "source": [
    "plot_roc_curve(xg_cl,X_test,y_test)"
   ]
  },
  {
   "cell_type": "markdown",
   "metadata": {},
   "source": [
    "ROC Curve or Receiver Operating Characteristic Curve, is a graph that shows the performance of the classification model across all classification thresholds. This curve plots two parameters: True Positive Rate and False Positive Rate."
   ]
  },
  {
   "cell_type": "code",
   "execution_count": 31,
   "metadata": {},
   "outputs": [
    {
     "data": {
      "image/png": "[encoded data removed]",
      "text/plain": [
       "<Figure size 432x288 with 1 Axes>"
      ]
     },
     "metadata": {
      "needs_background": "light"
     },
     "output_type": "display_data"
    }
   ],
   "source": [
    "xgb.plot_importance(xg_cl)\n",
    "plt.show() "
   ]
  }
 ],
 "metadata": {
  "kernelspec": {
   "display_name": "Python 3",
   "language": "python",
   "name": "python3"
  },
  "language_info": {
   "codemirror_mode": {
    "name": "ipython",
    "version": 3
   },
   "file_extension": ".py",
   "mimetype": "text/x-python",
   "name": "python",
   "nbconvert_exporter": "python",
   "pygments_lexer": "ipython3",
   "version": "3.8.3"
  },
  "toc": {
   "base_numbering": 1,
   "nav_menu": {},
   "number_sections": true,
   "sideBar": true,
   "skip_h1_title": false,
   "title_cell": "Table of Contents",
   "title_sidebar": "Contents",
   "toc_cell": false,
   "toc_position": {},
   "toc_section_display": true,
   "toc_window_display": true
  },
  "varInspector": {
   "cols": {
    "lenName": 16,
    "lenType": 16,
    "lenVar": 40
   },
   "kernels_config": {
    "python": {
     "delete_cmd_postfix": "",
     "delete_cmd_prefix": "del ",
     "library": "var_list.py",
     "varRefreshCmd": "print(var_dic_list())"
    },
    "r": {
     "delete_cmd_postfix": ") ",
     "delete_cmd_prefix": "rm(",
     "library": "var_list.r",
     "varRefreshCmd": "cat(var_dic_list()) "
    }
   },
   "types_to_exclude": [
    "module",
    "function",
    "builtin_function_or_method",
    "instance",
    "_Feature"
   ],
   "window_display": false
  }
 },
 "nbformat": 4,
 "nbformat_minor": 4
}
